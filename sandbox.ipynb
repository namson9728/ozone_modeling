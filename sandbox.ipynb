{
 "cells": [
  {
   "cell_type": "markdown",
   "metadata": {},
   "source": [
    "# Design\n",
    "\n",
    "Funtionality:\n",
    "- Load data\n",
    "- Run interpolation\n",
    "- Return relevant data\n",
    "\n",
    "Attributes:\n",
    "- ZA specs (min/max)\n",
    "- Nscale specs\n",
    "- Map specs (size)\n",
    "\n",
    "Methods:\n",
    "- load_amc()\n",
    "- interpolate()\n",
    "- visualize()"
   ]
  },
  {
   "cell_type": "code",
   "execution_count": 1,
   "metadata": {},
   "outputs": [],
   "source": [
    "from src.ozone import Ozone\n",
    "\n",
    "df = Ozone(nscale=(0,1,2), airmass=(3,4,5))"
   ]
  },
  {
   "cell_type": "code",
   "execution_count": 8,
   "metadata": {},
   "outputs": [
    {
     "data": {
      "text/plain": [
       "9"
      ]
     },
     "execution_count": 8,
     "metadata": {},
     "output_type": "execute_result"
    }
   ],
   "source": [
    "df.nscale.points = 9\n",
    "df.nscale.points"
   ]
  }
 ],
 "metadata": {
  "kernelspec": {
   "display_name": "DraChi",
   "language": "python",
   "name": "python3"
  },
  "language_info": {
   "codemirror_mode": {
    "name": "ipython",
    "version": 3
   },
   "file_extension": ".py",
   "mimetype": "text/x-python",
   "name": "python",
   "nbconvert_exporter": "python",
   "pygments_lexer": "ipython3",
   "version": "3.12.4"
  }
 },
 "nbformat": 4,
 "nbformat_minor": 2
}
